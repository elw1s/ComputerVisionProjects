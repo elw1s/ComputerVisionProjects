{
  "nbformat": 4,
  "nbformat_minor": 0,
  "metadata": {
    "colab": {
      "provenance": [],
      "authorship_tag": "ABX9TyNOhuBMdyAoQqWrlaH3UIJn"
    },
    "kernelspec": {
      "name": "python3",
      "display_name": "Python 3"
    },
    "language_info": {
      "name": "python"
    }
  },
  "cells": [
    {
      "cell_type": "code",
      "execution_count": null,
      "metadata": {
        "id": "hUtl1iutedQn"
      },
      "outputs": [],
      "source": [
        "import numpy as np # linear algebra\n",
        "import pandas as pd # data processing, CSV file I/O (e.g. pd.read_csv)\n",
        "import cv2\n",
        "import seaborn as sns\n",
        "import matplotlib.pyplot as plt\n",
        "import os\n",
        "import tensorflow as tf\n",
        "\n",
        "print(tf.__version__)\n"
      ]
    },
    {
      "cell_type": "code",
      "source": [
        "data_dir = '/kaggle/input/vehicle-type-recognition/Dataset'\n",
        "ds_name = 'Vehicles'"
      ],
      "metadata": {
        "id": "8bB753G5emqC"
      },
      "execution_count": null,
      "outputs": []
    },
    {
      "cell_type": "code",
      "source": [
        "img_height = 224\n",
        "img_width = 224"
      ],
      "metadata": {
        "id": "NfjXMk6UenMH"
      },
      "execution_count": null,
      "outputs": []
    },
    {
      "cell_type": "code",
      "source": [
        "train_ds = tf.keras.utils.image_dataset_from_directory(\n",
        "  data_dir,\n",
        "  validation_split=0.2,\n",
        "  subset=\"training\",\n",
        "  seed=123,\n",
        "  label_mode = 'categorical',\n",
        "  image_size=(img_height, img_width),\n",
        "  batch_size=batch_size)"
      ],
      "metadata": {
        "id": "KhBmYnJYeoaw"
      },
      "execution_count": null,
      "outputs": []
    },
    {
      "cell_type": "code",
      "source": [
        "val_ds = tf.keras.utils.image_dataset_from_directory(\n",
        "  data_dir,\n",
        "  validation_split=0.2,\n",
        "  subset=\"validation\",\n",
        "  seed=123,\n",
        "  label_mode = 'categorical',\n",
        "  image_size=(img_height, img_width),\n",
        "  batch_size=batch_size)\n"
      ],
      "metadata": {
        "id": "myEDJKpRep-f"
      },
      "execution_count": null,
      "outputs": []
    },
    {
      "cell_type": "code",
      "source": [
        "class_names = train_ds.class_names\n",
        "print(class_names)\n"
      ],
      "metadata": {
        "id": "Ap_zcVRxeq7O"
      },
      "execution_count": null,
      "outputs": []
    },
    {
      "cell_type": "code",
      "source": [
        "plt.figure(figsize=(10, 10))\n",
        "for images, labels in train_ds.take(1):\n",
        "  for i in range(9):\n",
        "    ax = plt.subplot(3, 3, i + 1)\n",
        "    plt.imshow(images[i].numpy().astype(\"uint8\"))\n",
        "    plt.title(class_names[labels[i]])\n",
        "    plt.axis(\"off\")\n"
      ],
      "metadata": {
        "id": "YHJZiYLker4y"
      },
      "execution_count": null,
      "outputs": []
    },
    {
      "cell_type": "code",
      "source": [
        "img_size = (224, 224)\n",
        "channels = 3\n",
        "img_shape = (img_size[0], img_size[1], channels)\n",
        "class_count = 4\n",
        "\n",
        "\n",
        "base_model = tf.keras.applications.efficientnet.EfficientNetB7(include_top= False, weights= \"imagenet\", input_shape= img_shape, pooling= 'max')\n",
        "base_model.trainable = False\n",
        "\n",
        "model = tf.keras.Sequential([\n",
        "    base_model,\n",
        "    tf.keras.layers.BatchNormalization(axis= -1, momentum= 0.99, epsilon= 0.001),\n",
        "    tf.keras.layers.Dense(128, kernel_regularizer= tf.keras.regularizers.l2(l= 0.016), activity_regularizer= tf.keras.regularizers.l1(0.006),\n",
        "                bias_regularizer= tf.keras.regularizers.l1(0.006), activation= 'relu'),\n",
        "    tf.keras.layers.Dropout(rate= 0.45, seed= 123),\n",
        "    tf.keras.layers.Dense(class_count, activation= 'softmax')\n",
        "])\n",
        "\n",
        "model2 = tf.keras.Sequential([\n",
        "    base_model,\n",
        "    tf.keras.layers.BatchNormalization(axis= -1, momentum= 0.99, epsilon= 0.001),\n",
        "    tf.keras.layers.Dense(128, kernel_regularizer= tf.keras.regularizers.l2(l= 0.016), activity_regularizer= tf.keras.regularizers.l1(0.006),\n",
        "                bias_regularizer= tf.keras.regularizers.l1(0.006), activation= 'relu'),\n",
        "    tf.keras.layers.Dropout(rate= 0.45, seed= 123),\n",
        "    tf.keras.layers.Dense(class_count, activation= 'softmax')\n",
        "])\n",
        "\n",
        "model.compile(tf.keras.optimizers.Adam(learning_rate= 0.001), loss= 'categorical_crossentropy', metrics= ['accuracy'])\n",
        "model2.compile(tf.keras.optimizers.RMSprop(learning_rate= 0.001), loss= 'categorical_crossentropy', metrics= ['accuracy'])\n",
        "\n",
        "model.summary()\n"
      ],
      "metadata": {
        "id": "5lGJl_gCesvk"
      },
      "execution_count": null,
      "outputs": []
    },
    {
      "cell_type": "code",
      "source": [
        "batch_size = 10   # set batch size for training\n",
        "epochs = 10  # number of all epochs in training\n",
        "\n",
        "history = model.fit(x=train_ds,\n",
        "                    epochs= epochs,\n",
        "                    verbose= 1,\n",
        "                    validation_data= val_ds,\n",
        "                    validation_steps= None,\n",
        "                    shuffle= False,\n",
        "                    batch_size= batch_size)\n",
        "\n",
        "history2 = model2.fit(x=train_ds,\n",
        "                    epochs= epochs,\n",
        "                    verbose= 1,\n",
        "                    validation_data= val_ds,\n",
        "                    validation_steps= None,\n",
        "                    shuffle= False,\n",
        "                    batch_size= batch_size)"
      ],
      "metadata": {
        "id": "Sk8-aSYre_FC"
      },
      "execution_count": null,
      "outputs": []
    },
    {
      "cell_type": "code",
      "source": [
        "# Define needed variables\n",
        "tr_acc = history.history['accuracy']\n",
        "tr_loss = history.history['loss']\n",
        "val_acc = history.history['val_accuracy']\n",
        "val_loss = history.history['val_loss']\n",
        "index_loss = np.argmin(val_loss)\n",
        "val_lowest = val_loss[index_loss]\n",
        "index_acc = np.argmax(val_acc)\n",
        "acc_highest = val_acc[index_acc]\n",
        "Epochs = [i+1 for i in range(len(tr_acc))]\n",
        "loss_label = f'best epoch= {str(index_loss + 1)}'\n",
        "acc_label = f'best epoch= {str(index_acc + 1)}'\n",
        "\n",
        "# Plot training history\n",
        "\n",
        "plt.figure(figsize= (20, 8))\n",
        "plt.style.use('fivethirtyeight')\n",
        "\n",
        "plt.subplot(1, 2, 1)\n",
        "plt.plot(Epochs, tr_loss, 'r', label= 'Training loss')\n",
        "plt.plot(Epochs, val_loss, 'g', label= 'Validation loss')\n",
        "plt.scatter(index_loss + 1, val_lowest, s= 150, c= 'blue', label= loss_label)\n",
        "plt.title('Training and Validation Loss')\n",
        "plt.xlabel('Epochs')\n",
        "plt.ylabel('Loss')\n",
        "plt.legend()\n",
        "\n",
        "plt.subplot(1, 2, 2)\n",
        "plt.plot(Epochs, tr_acc, 'r', label= 'Training Accuracy')\n",
        "plt.plot(Epochs, val_acc, 'g', label= 'Validation Accuracy')\n",
        "plt.scatter(index_acc + 1 , acc_highest, s= 150, c= 'blue', label= acc_label)\n",
        "plt.title('Training and Validation Accuracy')\n",
        "plt.xlabel('Epochs')\n",
        "plt.ylabel('Accuracy')\n",
        "plt.legend()\n",
        "\n",
        "plt.tight_layout\n",
        "plt.show()\n"
      ],
      "metadata": {
        "id": "Nfr6a9Q2fF4v"
      },
      "execution_count": null,
      "outputs": []
    },
    {
      "cell_type": "code",
      "source": [
        "epochs = range(1, len(history.history['accuracy']) + 1)\n",
        "\n",
        "# Plot the accuracy for the first model\n",
        "plt.plot(epochs, history.history['accuracy'], label='Adam', marker='o', color='blue')\n",
        "\n",
        "# Plot the accuracy for the second model\n",
        "plt.plot(epochs, history2.history['accuracy'], label='RMSprop', marker='o', color='red')\n",
        "\n",
        "# Add labels and a legend\n",
        "plt.xlabel('Epoch')\n",
        "plt.ylabel('Accuracy')\n",
        "plt.title('Model Accuracy Comparison')\n",
        "plt.legend()\n",
        "\n",
        "# Show the plot\n",
        "plt.grid(True)\n",
        "plt.show()"
      ],
      "metadata": {
        "id": "gbE3UY1TfHMF"
      },
      "execution_count": null,
      "outputs": []
    }
  ]
}